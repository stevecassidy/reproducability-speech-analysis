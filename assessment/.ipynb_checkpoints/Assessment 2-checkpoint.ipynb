{
 "cells": [
  {
   "cell_type": "markdown",
   "metadata": {},
   "source": [
    "Your name: "
   ]
  },
  {
   "cell_type": "markdown",
   "metadata": {},
   "source": [
    "# Assessment 2\n",
    "\n",
    "This notebook contains some problems for you to complete.  First it loads a speech file and then asks you to answer some questions about it.  Answer the questions by writing code if necessary, create new cells in the notebook if you need to."
   ]
  },
  {
   "cell_type": "code",
   "execution_count": null,
   "metadata": {},
   "outputs": [],
   "source": [
    "import librosa\n",
    "import librosa.display\n",
    "import pysptk\n",
    "import matplotlib.pyplot as plt\n",
    "%matplotlib inline\n",
    "import sklearn\n",
    "import numpy as np"
   ]
  },
  {
   "cell_type": "markdown",
   "metadata": {},
   "source": [
    "__Question 1.__ The next cell defines a variable `data` that is a list of strings.  Write a Python for loop to iterate over the list and print out any string that starts with the letter 'a'.  Run your code to show the output in this notebook."
   ]
  },
  {
   "cell_type": "code",
   "execution_count": null,
   "metadata": {},
   "outputs": [],
   "source": [
    "data = ['animal', 'cat', 'bear', 'aardvark', 'ant', 'bee']\n",
    "\n",
    "# write your code here\n",
    "\n",
    "\n"
   ]
  },
  {
   "cell_type": "markdown",
   "metadata": {},
   "source": [
    "__Question 2.__ Complete the Python function `even_or_odd` that takes a single number as an argument and returns the string `'Odd'` if the number is odd or the string `'Even'` if it is even. \n",
    "\n",
    "Note that you can check if a number is odd or even in Python by using the modulus operator `%`, so `3 % 2` would evaluate to `0` (zero) and `4 % 2` would be `1`.\n",
    "\n",
    "The cell below contains the start of the definition, you need to write the body of the function.  The code below the function will test your implementation.  Run the cell to show the output."
   ]
  },
  {
   "cell_type": "code",
   "execution_count": null,
   "metadata": {},
   "outputs": [],
   "source": [
    "def even_or_odd(n):\n",
    "    \"\"\"Return 'Odd' if the number n is odd\n",
    "    or 'Even' if it is even.\"\"\"\n",
    "\n",
    "    # write your code here\n",
    "\n",
    "    \n",
    "    \n",
    "# this code calls your function to test it  - do not modify\n",
    "print(even_or_odd(1))\n",
    "print(even_or_odd(2))\n",
    "print(even_or_odd(3))\n",
    "print(even_or_odd(4))"
   ]
  },
  {
   "cell_type": "markdown",
   "metadata": {},
   "source": [
    "## Question 3\n",
    "\n",
    "The code below loads a speech data file loaded into the variable `y` with sample rate `sr`. "
   ]
  },
  {
   "cell_type": "code",
   "execution_count": null,
   "metadata": {},
   "outputs": [],
   "source": [
    "datafile = \"mystery.wav\"\n",
    "y, sr = librosa.load(datafile)"
   ]
  },
  {
   "cell_type": "markdown",
   "metadata": {},
   "source": [
    "__Without listening to the file__ how would you make a good guess at the __gender__ of the speaker in this file (male or female).  First explain how you would do this and then try to write code to work it out."
   ]
  },
  {
   "cell_type": "markdown",
   "metadata": {},
   "source": [
    "Your explanation:"
   ]
  },
  {
   "cell_type": "code",
   "execution_count": null,
   "metadata": {},
   "outputs": [],
   "source": [
    "# your code\n"
   ]
  }
 ],
 "metadata": {
  "kernelspec": {
   "display_name": "Python 3",
   "language": "python",
   "name": "python3"
  },
  "language_info": {
   "codemirror_mode": {
    "name": "ipython",
    "version": 3
   },
   "file_extension": ".py",
   "mimetype": "text/x-python",
   "name": "python",
   "nbconvert_exporter": "python",
   "pygments_lexer": "ipython3",
   "version": "3.6.5"
  }
 },
 "nbformat": 4,
 "nbformat_minor": 2
}
