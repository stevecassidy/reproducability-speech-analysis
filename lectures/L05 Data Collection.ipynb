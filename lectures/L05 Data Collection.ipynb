{
 "cells": [
  {
   "cell_type": "markdown",
   "metadata": {
    "slideshow": {
     "slide_type": "slide"
    }
   },
   "source": [
    "# Recording and Processing Speech Data\n",
    "\n",
    "* Design our data collection\n",
    "* Record and segment data with Audacity\n",
    "* Write functions to process many files\n",
    "* Generate statistics for our data"
   ]
  },
  {
   "cell_type": "markdown",
   "metadata": {
    "collapsed": true,
    "slideshow": {
     "slide_type": "slide"
    }
   },
   "source": [
    "# Design our Data Collection\n",
    "\n",
    "* We want to run experiments on speech data\n",
    "* Classifying speech:\n",
    "    * Male vs Female\n",
    "    * Speaker (Person A vs Person B)\n",
    "    * Language (Chinese vs English)\n",
    "* To do these experiments, what data do we need? "
   ]
  },
  {
   "cell_type": "markdown",
   "metadata": {
    "slideshow": {
     "slide_type": "slide"
    }
   },
   "source": [
    "# Recording and Labelling Speech with Audacity\n",
    "\n",
    "* Audacity let's us record and playback audio\n",
    "* How do we use it to collect our data? \n",
    "* Set the default recording frequency (sample rate) to 16,000Hz\n",
    "* Record our word list all in one go\n",
    "* Select each word or phrase and add a label\n",
    "* Choose `Export Multiple...` to write out each segment as a separate file"
   ]
  },
  {
   "cell_type": "markdown",
   "metadata": {
    "slideshow": {
     "slide_type": "slide"
    }
   },
   "source": [
    "# Filenames for Speech Data\n",
    "\n",
    "* When we make a collection of speech data we also need to record meta-data\n",
    "* Meta-data is relevant information about the recording\n",
    "    * Who is speaking (speaker identifier)\n",
    "    * Gender\n",
    "    * Language\n",
    "    * What is being said\n",
    "* So for our collection:\n",
    "    * sc-m-en-01.wav"
   ]
  },
  {
   "cell_type": "markdown",
   "metadata": {
    "slideshow": {
     "slide_type": "slide"
    }
   },
   "source": [
    "# Managing our Data\n",
    "\n",
    "* Create a Github Project \n",
    "* Collaborators check out a copy of the repository\n",
    "* Add speech data to the repository (git add, git commit)\n",
    "* Push up to Github\n",
    "* Together we build a larger collection"
   ]
  },
  {
   "cell_type": "markdown",
   "metadata": {
    "slideshow": {
     "slide_type": "slide"
    }
   },
   "source": [
    "# Managing Your Project\n",
    "\n",
    "* Download a copy of the Github project to get the speech data\n",
    "* Create your own local git repository\n",
    "* Add the speech data (`git add`, `git commit`)\n",
    "* Create your own notebook(s) in the project\n",
    "* Add them to git (`git add`, `git commit`)\n",
    "* After you finish a step in the analysis, `git add`, `git commit`"
   ]
  },
  {
   "cell_type": "markdown",
   "metadata": {
    "slideshow": {
     "slide_type": "slide"
    }
   },
   "source": [
    "# Write Functions to Process Data\n",
    "\n",
    "* We need to extract __features__ for each recording\n",
    "* These features will become the numerical data we will classify\n",
    "    * Process all files in our data\n",
    "    * Extract features from each\n",
    "    * Combine them in an array\n",
    "* Let's begin by computing the average energy for each file"
   ]
  }
 ],
 "metadata": {
  "celltoolbar": "Slideshow",
  "kernelspec": {
   "display_name": "Python 3",
   "language": "python",
   "name": "python3"
  },
  "language_info": {
   "codemirror_mode": {
    "name": "ipython",
    "version": 3
   },
   "file_extension": ".py",
   "mimetype": "text/x-python",
   "name": "python",
   "nbconvert_exporter": "python",
   "pygments_lexer": "ipython3",
   "version": "3.6.5"
  }
 },
 "nbformat": 4,
 "nbformat_minor": 2
}
