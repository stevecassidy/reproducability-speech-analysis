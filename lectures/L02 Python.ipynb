{
 "cells": [
  {
   "cell_type": "markdown",
   "metadata": {
    "slideshow": {
     "slide_type": "slide"
    }
   },
   "source": [
    "# Python \n",
    "\n",
    "* About the Python language\n",
    "* Running Python code\n",
    "* Python data structures\n",
    "* Contol structures \n",
    "\n",
    "Some slides copied and adapted from [Software Carpentry](http://swcarpentry.github.io/python-novice-gapminder/02-variables/index.html)"
   ]
  },
  {
   "cell_type": "markdown",
   "metadata": {},
   "source": [
    "# Running Python \n",
    "\n",
    "* Python is an interpreted language, the `python` program runs python code\n",
    "* Run `python` with no arguments to get a Python prompt\n",
    "    * enter Python expressions and see the results (demo)\n",
    "* Save your program in a file `code.py` and run it with a command line:\n",
    "    * `python code.py`\n",
    "* Use the Jupyter Notebook environment to run your code\n",
    "    * enter code in blocks and click __Run__, see the result below\n",
    "    "
   ]
  },
  {
   "cell_type": "markdown",
   "metadata": {
    "slideshow": {
     "slide_type": "slide"
    }
   },
   "source": [
    "# Variables and Values\n",
    "\n",
    "* Variables are names for values.\n",
    "* In Python the `=` symbol assigns the value on the right to the name on the left.\n",
    "* The variable is created when a value is assigned to it.\n",
    "* Variable names\n",
    "    * can only contain letters, digits, and underscore _ (typically used to separate words in long variable names)\n",
    "    * cannot start with a digit\n",
    "* Here, Python assigns an age to a variable `age` and a name in quotes to a variable `first_name`."
   ]
  },
  {
   "cell_type": "code",
   "execution_count": 1,
   "metadata": {
    "slideshow": {
     "slide_type": "fragment"
    }
   },
   "outputs": [],
   "source": [
    "age = 23\n",
    "first_name = 'Steve'"
   ]
  },
  {
   "cell_type": "markdown",
   "metadata": {
    "slideshow": {
     "slide_type": "slide"
    }
   },
   "source": [
    "# Use print to display values.\n",
    "\n",
    "* Python has a built-in function called `print` that prints things as text.\n",
    "* Call the function (i.e., tell Python to run it) by using its name.\n",
    "* Provide values to the function (i.e., the things to print) in parentheses.\n",
    "* To add a string to the printout, wrap the string in single or double quotes.\n",
    "* The values passed to the function are called ‘arguments’"
   ]
  },
  {
   "cell_type": "code",
   "execution_count": 2,
   "metadata": {
    "slideshow": {
     "slide_type": "fragment"
    }
   },
   "outputs": [
    {
     "name": "stdout",
     "output_type": "stream",
     "text": [
      "Steve is 23 years old\n"
     ]
    }
   ],
   "source": [
    "print(first_name, 'is', age, 'years old')"
   ]
  },
  {
   "cell_type": "markdown",
   "metadata": {
    "slideshow": {
     "slide_type": "slide"
    }
   },
   "source": [
    "# Variables must be created before they are used.\n",
    "\n",
    "* If a variable doesn’t exist yet, or if the name has been mis-spelled, Python reports an error.\n",
    "* Unlike some languages, which “guess” a default value."
   ]
  },
  {
   "cell_type": "code",
   "execution_count": 4,
   "metadata": {
    "slideshow": {
     "slide_type": "fragment"
    }
   },
   "outputs": [
    {
     "ename": "NameError",
     "evalue": "name 'last_name' is not defined",
     "output_type": "error",
     "traceback": [
      "\u001b[0;31m\u001b[0m",
      "\u001b[0;31mNameError\u001b[0mTraceback (most recent call last)",
      "\u001b[0;32m<ipython-input-4-a637c5453549>\u001b[0m in \u001b[0;36m<module>\u001b[0;34m()\u001b[0m\n\u001b[0;32m----> 1\u001b[0;31m \u001b[0mprint\u001b[0m\u001b[0;34m(\u001b[0m\u001b[0mlast_name\u001b[0m\u001b[0;34m)\u001b[0m\u001b[0;34m\u001b[0m\u001b[0m\n\u001b[0m",
      "\u001b[0;31mNameError\u001b[0m: name 'last_name' is not defined"
     ]
    }
   ],
   "source": [
    "print(last_name)"
   ]
  },
  {
   "cell_type": "markdown",
   "metadata": {
    "slideshow": {
     "slide_type": "slide"
    }
   },
   "source": [
    "# Order of execution\n",
    "\n",
    "* In a notebook, the order of execution is the order you run the cells\n",
    "* You could define a variable early in the notebook but if the cell is not run it will not be defined\n",
    "* To prevent confusion, it can be helpful to use the `Kernel` -> `Restart & Run All` option which clears the interpreter and runs everything from a clean slate going top to bottom."
   ]
  },
  {
   "cell_type": "markdown",
   "metadata": {
    "slideshow": {
     "slide_type": "slide"
    }
   },
   "source": [
    "# Variables can be used in calculations.\n",
    "\n",
    "* We can use variables in calculations just as if they were values.\n",
    "    * Remember, we assigned 23 to `age` a few lines ago."
   ]
  },
  {
   "cell_type": "code",
   "execution_count": 7,
   "metadata": {
    "slideshow": {
     "slide_type": "fragment"
    }
   },
   "outputs": [
    {
     "name": "stdout",
     "output_type": "stream",
     "text": [
      "Age in two years is: 29\n"
     ]
    }
   ],
   "source": [
    "age = age + 2\n",
    "print(\"Age in two years is:\", age)"
   ]
  },
  {
   "cell_type": "markdown",
   "metadata": {
    "slideshow": {
     "slide_type": "slide"
    }
   },
   "source": [
    "# Use an index to get a single character from a string\n",
    "\n",
    "* Square brackets after variable name access parts of the string\n",
    "* Each character position is given a number or index\n",
    "* index starts from 0 \n",
    "* So, the fist character is 0, the second 1 etc"
   ]
  },
  {
   "cell_type": "code",
   "execution_count": 11,
   "metadata": {},
   "outputs": [
    {
     "name": "stdout",
     "output_type": "stream",
     "text": [
      "a\n"
     ]
    }
   ],
   "source": [
    "city = \"Wuhan\"\n",
    "print(city[3])"
   ]
  },
  {
   "cell_type": "markdown",
   "metadata": {
    "slideshow": {
     "slide_type": "slide"
    }
   },
   "source": [
    "# Use a slice to get a substring\n",
    "\n",
    "* If we want to get part of a string, use a slice\n",
    "* Same square bracket notation\n",
    "* This time two indices: `[start:end]`\n",
    "* Value is every character from `start` upto but not including `end`\n",
    "* If you miss `start` or `end` then the start or end of the string is assumed"
   ]
  },
  {
   "cell_type": "code",
   "execution_count": 15,
   "metadata": {
    "slideshow": {
     "slide_type": "slide"
    }
   },
   "outputs": [
    {
     "name": "stdout",
     "output_type": "stream",
     "text": [
      "Wuh\n",
      "ha\n",
      "Wuh\n",
      "han\n"
     ]
    }
   ],
   "source": [
    "print(city[0:3])\n",
    "print(city[2:4])\n",
    "print(city[:3])\n",
    "print(city[2:])"
   ]
  },
  {
   "cell_type": "markdown",
   "metadata": {
    "slideshow": {
     "slide_type": "slide"
    }
   },
   "source": [
    "# Python Data Structures\n",
    "\n",
    "* Understand the different data structures available in Python\n",
    "* Strings, Lists, Tuples, Dictionaries\n",
    "* Methods defined on each type \n",
    "* What to use for different tasks\n",
    "* Packages and data structures for numerical data analysis:\n",
    "    * Numpy vectors, arrays, matrices"
   ]
  },
  {
   "cell_type": "markdown",
   "metadata": {
    "slideshow": {
     "slide_type": "slide"
    }
   },
   "source": [
    "## Strings\n",
    "\n",
    "* Sequence of characters representing text\n",
    "* In Python, strings are unicode - so can store any characters\n",
    "* Can use single quote ', double quote \" or triple quotes \"\"\" \n",
    "* Strings are objects, call methods on them\n",
    "* Check out [the documentation](https://docs.python.org/3/library/string.html) for more"
   ]
  },
  {
   "cell_type": "code",
   "execution_count": 91,
   "metadata": {
    "slideshow": {
     "slide_type": "subslide"
    }
   },
   "outputs": [
    {
     "data": {
      "text/plain": [
       "'triple quoted string\\ncan contain \\nnewlines'"
      ]
     },
     "execution_count": 91,
     "metadata": {},
     "output_type": "execute_result"
    }
   ],
   "source": [
    "s1 = 'single quoted string might have \"quotes in it\"'\n",
    "s2 = \"double quoted string could contain it's or that's\"\n",
    "s3 = \"\"\"triple quoted string\n",
    "can contain \n",
    "newlines\"\"\"\n",
    "s4 = \"String containing 中文\"\n",
    "s3"
   ]
  },
  {
   "cell_type": "code",
   "execution_count": 92,
   "metadata": {
    "slideshow": {
     "slide_type": "fragment"
    }
   },
   "outputs": [
    {
     "name": "stdout",
     "output_type": "stream",
     "text": [
      "triple quoted string\n",
      "can contain \n",
      "newlines\n"
     ]
    }
   ],
   "source": [
    "print(s3)"
   ]
  },
  {
   "cell_type": "markdown",
   "metadata": {
    "slideshow": {
     "slide_type": "slide"
    }
   },
   "source": [
    "# Operations on Strings"
   ]
  },
  {
   "cell_type": "code",
   "execution_count": 93,
   "metadata": {
    "slideshow": {
     "slide_type": "fragment"
    }
   },
   "outputs": [
    {
     "data": {
      "text/plain": [
       "'STRING CONTAINING 中文'"
      ]
     },
     "execution_count": 93,
     "metadata": {},
     "output_type": "execute_result"
    }
   ],
   "source": [
    "# convert s4 to uppercase and store as s5\n",
    "s5 = s4.upper()\n",
    "s5"
   ]
  },
  {
   "cell_type": "code",
   "execution_count": 94,
   "metadata": {
    "slideshow": {
     "slide_type": "fragment"
    }
   },
   "outputs": [
    {
     "data": {
      "text/plain": [
       "'g containing 中文'"
      ]
     },
     "execution_count": 94,
     "metadata": {},
     "output_type": "execute_result"
    }
   ],
   "source": [
    "# find the first occurence of 'g' in s4\n",
    "firstg = s4.find('g')\n",
    "# get all characters after that\n",
    "s4[firstg:]"
   ]
  },
  {
   "cell_type": "markdown",
   "metadata": {
    "slideshow": {
     "slide_type": "slide"
    }
   },
   "source": [
    "# Lists and Tuples\n",
    "\n",
    "* Lists are sequences of values\n",
    "* Written inside square brackets, separated by commas\n",
    "    * ['this', 'is', 'a', 'list', 'of', 'strings'], [3, 4, 6]\n",
    "    * ['strings', 'and', 3, 9, 2]\n",
    "    * ['lists', 'containing', ['another', 'list']]\n",
    "* Lists can be modified, elements added, removed, replaced\n",
    "* Tuples are just like lists but can't be modified\n",
    "    * ('this', 'is', 'a', 'tuple')\n",
    "    * sometimes it's more efficient to use a tuple\n",
    "* Check out the [documentation](https://docs.python.org/3/library/stdtypes.html#sequence-types-list-tuple-range)"
   ]
  },
  {
   "cell_type": "code",
   "execution_count": 95,
   "metadata": {
    "slideshow": {
     "slide_type": "slide"
    }
   },
   "outputs": [
    {
     "data": {
      "text/plain": [
       "['embedded', 'list', ['this', 'is', 'a', 'list', 'of', 'strings']]"
      ]
     },
     "execution_count": 95,
     "metadata": {},
     "output_type": "execute_result"
    }
   ],
   "source": [
    "list1 = ['this', 'is', 'a', 'list', 'of', 'strings']\n",
    "list2 = ['embedded', 'list', list1]\n",
    "list2"
   ]
  },
  {
   "cell_type": "code",
   "execution_count": 96,
   "metadata": {
    "slideshow": {
     "slide_type": "fragment"
    }
   },
   "outputs": [
    {
     "data": {
      "text/plain": [
       "True"
      ]
     },
     "execution_count": 96,
     "metadata": {},
     "output_type": "execute_result"
    }
   ],
   "source": [
    "# the 'in' operator checks whether something is in a list\n",
    "'a' in list1"
   ]
  },
  {
   "cell_type": "code",
   "execution_count": 97,
   "metadata": {
    "slideshow": {
     "slide_type": "fragment"
    }
   },
   "outputs": [
    {
     "name": "stdout",
     "output_type": "stream",
     "text": [
      "found it\n"
     ]
    }
   ],
   "source": [
    "if 'a' in list1:\n",
    "    print(\"found it\")\n",
    "else:\n",
    "    print(\"not found\")"
   ]
  },
  {
   "cell_type": "markdown",
   "metadata": {
    "slideshow": {
     "slide_type": "slide"
    }
   },
   "source": [
    "# Lists and Loops"
   ]
  },
  {
   "cell_type": "code",
   "execution_count": 98,
   "metadata": {
    "slideshow": {
     "slide_type": "fragment"
    }
   },
   "outputs": [
    {
     "name": "stdout",
     "output_type": "stream",
     "text": [
      "['To', 'be', 'or', 'not', 'to', 'be', 'that', 'is', 'the', 'question']\n",
      "[2, 2, 2, 3, 2, 2, 4, 2, 3, 8]\n"
     ]
    }
   ],
   "source": [
    "text = \"To be or not to be that is the question\"\n",
    "# split the string at every space character, generate a list\n",
    "words = text.split()\n",
    "print(words)\n",
    "\n",
    "# create a new empty list\n",
    "wordlengths = []\n",
    "for word in words:\n",
    "    # append the length of this word to our list\n",
    "    wordlengths.append(len(word))\n",
    "\n",
    "print(wordlengths)"
   ]
  },
  {
   "cell_type": "markdown",
   "metadata": {
    "slideshow": {
     "slide_type": "slide"
    }
   },
   "source": [
    "# Tuples vs Lists"
   ]
  },
  {
   "cell_type": "code",
   "execution_count": 99,
   "metadata": {
    "slideshow": {
     "slide_type": "fragment"
    }
   },
   "outputs": [
    {
     "name": "stdout",
     "output_type": "stream",
     "text": [
      "Length:  3\n",
      "Second element:  cassidy\n"
     ]
    }
   ],
   "source": [
    "# could use a tuple to represent a data record\n",
    "record = ('steve', 'cassidy', 39)\n",
    "# can use some of the same operations as lists\n",
    "print(\"Length: \", len(record))\n",
    "print(\"Second element: \", record[1])"
   ]
  },
  {
   "cell_type": "code",
   "execution_count": 100,
   "metadata": {
    "slideshow": {
     "slide_type": "fragment"
    }
   },
   "outputs": [
    {
     "ename": "AttributeError",
     "evalue": "'tuple' object has no attribute 'append'",
     "output_type": "error",
     "traceback": [
      "\u001b[0;31m\u001b[0m",
      "\u001b[0;31mAttributeError\u001b[0mTraceback (most recent call last)",
      "\u001b[0;32m<ipython-input-100-12c1483dd356>\u001b[0m in \u001b[0;36m<module>\u001b[0;34m()\u001b[0m\n\u001b[1;32m      1\u001b[0m \u001b[0;31m# but this can't be modified\u001b[0m\u001b[0;34m\u001b[0m\u001b[0;34m\u001b[0m\u001b[0m\n\u001b[0;32m----> 2\u001b[0;31m \u001b[0mrecord\u001b[0m\u001b[0;34m.\u001b[0m\u001b[0mappend\u001b[0m\u001b[0;34m(\u001b[0m\u001b[0;36m21\u001b[0m\u001b[0;34m)\u001b[0m\u001b[0;34m\u001b[0m\u001b[0m\n\u001b[0m",
      "\u001b[0;31mAttributeError\u001b[0m: 'tuple' object has no attribute 'append'"
     ]
    }
   ],
   "source": [
    "# but this can't be modified\n",
    "record.append(21)"
   ]
  },
  {
   "cell_type": "markdown",
   "metadata": {
    "slideshow": {
     "slide_type": "slide"
    }
   },
   "source": [
    "# Tuples, Lists and Strings\n",
    "\n",
    "These are all _sequence_ types and share some common operations."
   ]
  },
  {
   "cell_type": "code",
   "execution_count": 101,
   "metadata": {
    "slideshow": {
     "slide_type": "fragment"
    }
   },
   "outputs": [
    {
     "data": {
      "text/plain": [
       "1"
      ]
     },
     "execution_count": 101,
     "metadata": {},
     "output_type": "execute_result"
    }
   ],
   "source": [
    "s = ['a', 'list', 'of', 'stuff']\n",
    "t = [1, 2, 3]\n",
    "\n",
    "'a' in s         # boolean test\n",
    "'x' not in s     # boolean test\n",
    "s + t            # concatenate s and t\n",
    "t * 3            # t repeated 3 times\n",
    "s[1]             # second element\n",
    "s[:2]            # all elements up to the second\n",
    "s[2:4]           # all elements from 3rd to 4th\n",
    "min(s)           # smallest element\n",
    "max(s)           # largest element\n",
    "s.count('a')     # how many times does 'a' occur"
   ]
  },
  {
   "cell_type": "markdown",
   "metadata": {
    "slideshow": {
     "slide_type": "slide"
    }
   },
   "source": [
    "# Dictionaries\n",
    "\n",
    "* Dictionaries are associative arrays\n",
    "* Associate a key with a value\n",
    "* Key can be any immutable type (string, number, tuple)\n",
    "* Value can be anything\n",
    "* O(1) access to elements (hash table)\n",
    "* Compare with lists that are O(n)\n"
   ]
  },
  {
   "cell_type": "markdown",
   "metadata": {
    "slideshow": {
     "slide_type": "slide"
    }
   },
   "source": [
    "# Dictionaries"
   ]
  },
  {
   "cell_type": "code",
   "execution_count": 102,
   "metadata": {
    "slideshow": {
     "slide_type": "fragment"
    }
   },
   "outputs": [
    {
     "data": {
      "text/plain": [
       "{'name': 'Steve Cassidy', 'age': 53, 'weight': 80}"
      ]
     },
     "execution_count": 102,
     "metadata": {},
     "output_type": "execute_result"
    }
   ],
   "source": [
    "info = dict()\n",
    "info['name'] = 'Steve Cassidy'\n",
    "info['age'] = 53\n",
    "info['weight'] = 80\n",
    "info"
   ]
  },
  {
   "cell_type": "code",
   "execution_count": 103,
   "metadata": {
    "slideshow": {
     "slide_type": "fragment"
    }
   },
   "outputs": [
    {
     "data": {
      "text/plain": [
       "53"
      ]
     },
     "execution_count": 103,
     "metadata": {},
     "output_type": "execute_result"
    }
   ],
   "source": [
    "info = {\n",
    "    'name': 'Steve Cassidy', \n",
    "    'age': 53, \n",
    "    'weight': 80\n",
    "}\n",
    "info['age']"
   ]
  },
  {
   "cell_type": "code",
   "execution_count": 104,
   "metadata": {
    "slideshow": {
     "slide_type": "fragment"
    }
   },
   "outputs": [
    {
     "name": "stdout",
     "output_type": "stream",
     "text": [
      "Age:  53\n"
     ]
    }
   ],
   "source": [
    "if 'age' in info:\n",
    "    print(\"Age: \", info['age'])"
   ]
  },
  {
   "cell_type": "markdown",
   "metadata": {
    "slideshow": {
     "slide_type": "slide"
    }
   },
   "source": [
    "# An Example\n",
    "\n",
    "Let's write some code to use strings, lists and dictionaries to solve a problem. \n",
    "\n",
    "Given a text, count how many times each word occurs in the text.\n"
   ]
  },
  {
   "cell_type": "code",
   "execution_count": 105,
   "metadata": {
    "slideshow": {
     "slide_type": "subslide"
    }
   },
   "outputs": [
    {
     "name": "stdout",
     "output_type": "stream",
     "text": [
      "python is an easy to learn  powerful programming language  \n",
      "it has efficient high level data structures and a simple but effective \n",
      "approach to object oriented programming  python’s elegant syntax \n",
      "and dynamic typing  together with its interpreted nature  make \n",
      "it an ideal language for scripting and rapid application development \n",
      "in many areas on most platforms \n"
     ]
    }
   ],
   "source": [
    "text = \"\"\"Python is an easy to learn, powerful programming language. \n",
    "It has efficient high-level data structures and a simple but effective \n",
    "approach to object-oriented programming. Python’s elegant syntax \n",
    "and dynamic typing, together with its interpreted nature, make \n",
    "it an ideal language for scripting and rapid application development \n",
    "in many areas on most platforms.\"\"\"\n",
    "\n",
    "# remove punctuation and convert to lowercase\n",
    "text = text.replace(',',' ').replace('.', ' ').replace('-', ' ')\n",
    "text = text.lower()\n",
    "print(text)\n"
   ]
  },
  {
   "cell_type": "code",
   "execution_count": 106,
   "metadata": {
    "slideshow": {
     "slide_type": "subslide"
    }
   },
   "outputs": [
    {
     "name": "stdout",
     "output_type": "stream",
     "text": [
      "a 1\n",
      "an 2\n",
      "and 3\n",
      "application 1\n",
      "approach 1\n",
      "areas 1\n",
      "but 1\n",
      "data 1\n",
      "development 1\n",
      "dynamic 1\n",
      "easy 1\n",
      "effective 1\n",
      "efficient 1\n",
      "elegant 1\n",
      "for 1\n",
      "has 1\n",
      "high 1\n",
      "ideal 1\n",
      "in 1\n",
      "interpreted 1\n",
      "is 1\n",
      "it 2\n",
      "its 1\n",
      "language 2\n",
      "learn 1\n",
      "level 1\n",
      "make 1\n",
      "many 1\n",
      "most 1\n",
      "nature 1\n",
      "object 1\n",
      "on 1\n",
      "oriented 1\n",
      "platforms 1\n",
      "powerful 1\n",
      "programming 2\n",
      "python 1\n",
      "python’s 1\n",
      "rapid 1\n",
      "scripting 1\n",
      "simple 1\n",
      "structures 1\n",
      "syntax 1\n",
      "to 2\n",
      "together 1\n",
      "typing 1\n",
      "with 1\n"
     ]
    }
   ],
   "source": [
    "# split text into words on whitespace\n",
    "words = text.split()\n",
    "# intialise a dictionary for word counts\n",
    "# we will use the word as a key and store the count for each word\n",
    "count = dict()\n",
    "# count the words\n",
    "for word in words:\n",
    "    if word in count:\n",
    "        count[word] += 1        # word is already in the dictionary\n",
    "    else:\n",
    "        count[word] = 1         # word is not in the dictionary\n",
    "\n",
    "for word in sorted(count):\n",
    "    print(word, count[word])"
   ]
  },
  {
   "cell_type": "markdown",
   "metadata": {
    "slideshow": {
     "slide_type": "slide"
    }
   },
   "source": [
    "# NumPy Data Structures\n",
    "\n",
    "* [NumPy](https://docs.scipy.org/doc/numpy/user/index.html) is a Python module for numerical computing\n",
    "* It supports a multidimensional array type (array)\n",
    "* Operations on numerical data\n",
    "* Faster than using Python lists to hold data\n",
    "* Arrays can be one, two, three or many dimensional"
   ]
  },
  {
   "cell_type": "markdown",
   "metadata": {
    "slideshow": {
     "slide_type": "slide"
    }
   },
   "source": [
    "# One Dimensional Arrays"
   ]
  },
  {
   "cell_type": "code",
   "execution_count": 2,
   "metadata": {
    "slideshow": {
     "slide_type": "fragment"
    }
   },
   "outputs": [
    {
     "name": "stdout",
     "output_type": "stream",
     "text": [
      "[1 2 3 2 1]\n",
      "Type is: int64\n",
      "[ 1.   2.1  3.   2.   1. ]\n",
      "Type is: float64\n",
      "[   0    1    2 ..., 9997 9998 9999]\n"
     ]
    }
   ],
   "source": [
    "import numpy as np\n",
    "\n",
    "# make an array from a Python list\n",
    "a1 = np.array([1, 2, 3, 2, 1])\n",
    "print(a1)\n",
    "# the type of the array is defined by the dtype property\n",
    "print(\"Type is:\", a1.dtype)\n",
    "\n",
    "# all elements in the array have the same type\n",
    "# so here integers are coerced to float64\n",
    "a2 = np.array([1.0, 2.1, 3, 2, 1])\n",
    "print(a2)\n",
    "print(\"Type is:\", a2.dtype)\n",
    "\n",
    "# make a sequence from 1..x with arange\n",
    "a3 = np.arange(10000)\n",
    "print(a3)"
   ]
  },
  {
   "cell_type": "markdown",
   "metadata": {
    "slideshow": {
     "slide_type": "slide"
    }
   },
   "source": [
    "# NumPy Arrays are faster than Python Lists"
   ]
  },
  {
   "cell_type": "code",
   "execution_count": 5,
   "metadata": {
    "slideshow": {
     "slide_type": "fragment"
    }
   },
   "outputs": [
    {
     "name": "stdout",
     "output_type": "stream",
     "text": [
      "49999995000000\n",
      "Time: 0.011702775955200195\n"
     ]
    }
   ],
   "source": [
    "import time\n",
    "\n",
    "# make a big array of 10 million integers\n",
    "bigarray = np.arange(10000000)\n",
    "\n",
    "# time the execution of sum\n",
    "start = time.time()\n",
    "print(bigarray.sum())\n",
    "print(\"Time:\", time.time()-start)"
   ]
  },
  {
   "cell_type": "code",
   "execution_count": 6,
   "metadata": {
    "slideshow": {
     "slide_type": "fragment"
    }
   },
   "outputs": [
    {
     "name": "stdout",
     "output_type": "stream",
     "text": [
      "49999995000000\n",
      "Time: 1.0716309547424316\n"
     ]
    }
   ],
   "source": [
    "# convert to a Python list\n",
    "biglist = list(bigarray)\n",
    "start = time.time()\n",
    "print(sum(biglist))\n",
    "print(\"Time:\", time.time()-start)"
   ]
  },
  {
   "cell_type": "markdown",
   "metadata": {
    "slideshow": {
     "slide_type": "slide"
    }
   },
   "source": [
    "# Two Dimensions"
   ]
  },
  {
   "cell_type": "code",
   "execution_count": 110,
   "metadata": {
    "slideshow": {
     "slide_type": "fragment"
    }
   },
   "outputs": [
    {
     "name": "stdout",
     "output_type": "stream",
     "text": [
      "[[1 2 3]\n",
      " [4 5 6]]\n"
     ]
    }
   ],
   "source": [
    "# Create a 3 x 2 array from nested Python lists, specify the dtype\n",
    "mat = np.array([[1, 2, 3], [4, 5, 6]], np.int32)\n",
    "print(mat)"
   ]
  },
  {
   "cell_type": "code",
   "execution_count": 111,
   "metadata": {
    "slideshow": {
     "slide_type": "fragment"
    }
   },
   "outputs": [
    {
     "name": "stdout",
     "output_type": "stream",
     "text": [
      "[[1 0 0 0 0]\n",
      " [0 2 0 0 0]\n",
      " [0 0 3 0 0]\n",
      " [0 0 0 4 0]\n",
      " [0 0 0 0 5]]\n"
     ]
    }
   ],
   "source": [
    "# make a diagonal array from a Python list\n",
    "diag = np.diag([1, 2, 3, 4, 5])\n",
    "print(diag)"
   ]
  },
  {
   "cell_type": "code",
   "execution_count": 112,
   "metadata": {
    "slideshow": {
     "slide_type": "fragment"
    }
   },
   "outputs": [
    {
     "name": "stdout",
     "output_type": "stream",
     "text": [
      "(5, 5)\n",
      "25\n",
      "2\n"
     ]
    }
   ],
   "source": [
    "# properties of arrays\n",
    "print(diag.shape) # tuple describing shape\n",
    "print(diag.size)  # number of elements\n",
    "print(diag.ndim)  # number of dimensions"
   ]
  },
  {
   "cell_type": "markdown",
   "metadata": {
    "slideshow": {
     "slide_type": "slide"
    }
   },
   "source": [
    "# More Dimensions"
   ]
  },
  {
   "cell_type": "code",
   "execution_count": 113,
   "metadata": {
    "slideshow": {
     "slide_type": "fragment"
    }
   },
   "outputs": [
    {
     "data": {
      "text/plain": [
       "array([[[ 0,  1,  2,  3],\n",
       "        [ 4,  5,  6,  7],\n",
       "        [ 8,  9, 10, 11]],\n",
       "\n",
       "       [[12, 13, 14, 15],\n",
       "        [16, 17, 18, 19],\n",
       "        [20, 21, 22, 23]]])"
      ]
     },
     "execution_count": 113,
     "metadata": {},
     "output_type": "execute_result"
    }
   ],
   "source": [
    "# make a one dimensional array of integers up to 24\n",
    "# then reshape it to be 2 x 3 x 4\n",
    "threeD = np.arange(24).reshape(2,3,4)\n",
    "threeD"
   ]
  },
  {
   "cell_type": "markdown",
   "metadata": {
    "slideshow": {
     "slide_type": "slide"
    }
   },
   "source": [
    "# Axes in Multi-dimensional Arrays\n",
    "\n",
    "* One dimensional arrays have one axis\n",
    "* Two dimensional arrays have two axes (etc)\n",
    "* In our 2 x 3 x 4 array the first axis has size 2\n",
    "* The second has size 3 etc"
   ]
  },
  {
   "cell_type": "code",
   "execution_count": 114,
   "metadata": {
    "slideshow": {
     "slide_type": "fragment"
    }
   },
   "outputs": [
    {
     "data": {
      "text/plain": [
       "array([[1, 2, 3],\n",
       "       [4, 5, 6]], dtype=int32)"
      ]
     },
     "execution_count": 114,
     "metadata": {},
     "output_type": "execute_result"
    }
   ],
   "source": [
    "mat"
   ]
  },
  {
   "cell_type": "code",
   "execution_count": 115,
   "metadata": {
    "slideshow": {
     "slide_type": "fragment"
    }
   },
   "outputs": [
    {
     "data": {
      "text/plain": [
       "(2, 3)"
      ]
     },
     "execution_count": 115,
     "metadata": {},
     "output_type": "execute_result"
    }
   ],
   "source": [
    "mat.shape"
   ]
  },
  {
   "cell_type": "code",
   "execution_count": 116,
   "metadata": {
    "slideshow": {
     "slide_type": "fragment"
    }
   },
   "outputs": [
    {
     "name": "stdout",
     "output_type": "stream",
     "text": [
      "[1 2 3]\n",
      "[1 2 3]\n",
      "[1 4]\n"
     ]
    }
   ],
   "source": [
    "# use [] notation to get at parts of the matrix\n",
    "print(mat[0])     # first row\n",
    "print(mat[0,:])   # same\n",
    "print(mat[:,0])   # first column"
   ]
  },
  {
   "cell_type": "markdown",
   "metadata": {
    "slideshow": {
     "slide_type": "slide"
    }
   },
   "source": [
    "# More Examples\n",
    "\n",
    "See the documentation: [NumPy Quickstart](https://docs.scipy.org/doc/numpy/user/quickstart.html), [NumPy Basics](https://docs.scipy.org/doc/numpy/user/basics.html)"
   ]
  },
  {
   "cell_type": "markdown",
   "metadata": {
    "slideshow": {
     "slide_type": "slide"
    }
   },
   "source": [
    "# Python Functions and Control Structures\n",
    "\n",
    "We need to know how to define and call functions and how to write loop and conditionals."
   ]
  },
  {
   "cell_type": "code",
   "execution_count": 8,
   "metadata": {
    "slideshow": {
     "slide_type": "slide"
    }
   },
   "outputs": [
    {
     "name": "stdout",
     "output_type": "stream",
     "text": [
      "{'this': 1, 'is': 1, 'my': 1, 'text': 1}\n",
      "{'and': 1, 'this': 2, 'is': 1, 'another': 1, 'text': 1, 'with': 1, 'in': 1, 'it': 1, 'a': 1, 'few': 1, 'times': 1}\n"
     ]
    }
   ],
   "source": [
    "def count_words(text):\n",
    "    \"\"\"Count the words in a given text string. \n",
    "    Return a dictionary with words as keys and word counts as values.\"\"\"\n",
    "    \n",
    "    words = text.split()\n",
    "    count = dict()\n",
    "    \n",
    "    for word in words:\n",
    "        if word in count:\n",
    "            count[word] += 1        \n",
    "        else:\n",
    "            count[word] = 1         \n",
    "    return count\n",
    "\n",
    "c1 = count_words(\"this is my text\")\n",
    "c2 = count_words(\"and this is another text with this in it a few times\")\n",
    "\n",
    "print(c1)\n",
    "print(c2)"
   ]
  },
  {
   "cell_type": "markdown",
   "metadata": {
    "slideshow": {
     "slide_type": "slide"
    }
   },
   "source": [
    "## Notes\n",
    "\n",
    "* The 'def' keyword is used to introduce a function.  \n",
    "* There are no type declarations for variables\n",
    "    * However, Python 3.5 introduced _type hinting_\n",
    "* Just after the 'def' line we can include a __Documentation String__\n",
    "    * Describes the function, how it could be used\n",
    "    * Becomes the online help for the function\n",
    "    "
   ]
  },
  {
   "cell_type": "code",
   "execution_count": 127,
   "metadata": {
    "slideshow": {
     "slide_type": "fragment"
    }
   },
   "outputs": [
    {
     "name": "stdout",
     "output_type": "stream",
     "text": [
      "Help on function count_words in module __main__:\n",
      "\n",
      "count_words(text)\n",
      "    Count the words in a given text string. \n",
      "    Return a dictionary with words as keys and word counts as values.\n",
      "\n"
     ]
    }
   ],
   "source": [
    "help(count_words)"
   ]
  },
  {
   "cell_type": "markdown",
   "metadata": {
    "slideshow": {
     "slide_type": "slide"
    }
   },
   "source": [
    "# A More Complex Function"
   ]
  },
  {
   "cell_type": "code",
   "execution_count": 131,
   "metadata": {
    "slideshow": {
     "slide_type": "fragment"
    }
   },
   "outputs": [
    {
     "name": "stdout",
     "output_type": "stream",
     "text": [
      "[0, 0, 0]\n",
      "[1, 1, 1]\n",
      "[2, 2, 2]\n"
     ]
    }
   ],
   "source": [
    "def make_list(n, element=0):\n",
    "    \"\"\"Generate a list of n elements, \n",
    "     if element is supplied use that (default 0)\"\"\"\n",
    "    \n",
    "    result = []\n",
    "    for i in range(n):\n",
    "        result.append(element)\n",
    "    return result\n",
    "\n",
    "print(make_list(3))\n",
    "print(make_list(3, 1))\n",
    "print(make_list(3, element=2))"
   ]
  },
  {
   "cell_type": "markdown",
   "metadata": {},
   "source": [
    "# The End"
   ]
  },
  {
   "cell_type": "code",
   "execution_count": null,
   "metadata": {},
   "outputs": [],
   "source": []
  }
 ],
 "metadata": {
  "kernelspec": {
   "display_name": "Python 3",
   "language": "python",
   "name": "python3"
  },
  "language_info": {
   "codemirror_mode": {
    "name": "ipython",
    "version": 3
   },
   "file_extension": ".py",
   "mimetype": "text/x-python",
   "name": "python",
   "nbconvert_exporter": "python",
   "pygments_lexer": "ipython3",
   "version": "3.6.5"
  }
 },
 "nbformat": 4,
 "nbformat_minor": 2
}
