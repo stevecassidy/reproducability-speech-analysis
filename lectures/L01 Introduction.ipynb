{
 "cells": [
  {
   "cell_type": "markdown",
   "metadata": {
    "slideshow": {
     "slide_type": "slide"
    }
   },
   "source": [
    "# Introduction and Overview\n",
    "\n",
    "* This is a course about two things:\n",
    "    * Automatic Speech Classification\n",
    "    * Doing Science & Engineering in a reproducible manner\n",
    "* Two goals inertwined\n",
    "* We will use one to learn about the other\n",
    "* this is another point"
   ]
  },
  {
   "cell_type": "markdown",
   "metadata": {
    "slideshow": {
     "slide_type": "slide"
    }
   },
   "source": [
    "# About Me\n",
    "\n",
    "* A/Prof. Steve Cassidy\n",
    "* Department of Computing, Macquarie University, Sydney, Australia\n",
    "* Teaching: Data Science, Web development, programming\n",
    "* Research: research data and workflows, speech analysis, text analysis, web based tools\n",
    "* Personal: cycling, building things\n",
    "\n",
    "[http://web.science.mq.edu.au/~cassidy/](http://web.science.mq.edu.au/~cassidy/)"
   ]
  },
  {
   "cell_type": "markdown",
   "metadata": {
    "slideshow": {
     "slide_type": "subslide"
    }
   },
   "source": [
    "<img src=\"cycling.jpg\">"
   ]
  },
  {
   "cell_type": "markdown",
   "metadata": {
    "slideshow": {
     "slide_type": "slide"
    }
   },
   "source": [
    "<img src=\"https://www.mq.edu.au/__data/assets/image/0005/367907/arial.jpg\">"
   ]
  },
  {
   "cell_type": "markdown",
   "metadata": {
    "slideshow": {
     "slide_type": "slide"
    }
   },
   "source": [
    "## About these Slides\n",
    "\n",
    "* My slides are made with [Jupyter Notebooks](http://jupyter.org/) \n",
    "* Jupyter is a system that supports *executable documents*\n",
    "* Documents contain a mixture of rich text and code\n",
    "* Useful for documenting the process of running experiments\n",
    "* I can show examples of code and the results of running them\n",
    "* You can view this as a document or slides\n",
    "* add a new point"
   ]
  },
  {
   "cell_type": "code",
   "execution_count": 3,
   "metadata": {
    "slideshow": {
     "slide_type": "subslide"
    }
   },
   "outputs": [
    {
     "name": "stdout",
     "output_type": "stream",
     "text": [
      "Populating the interactive namespace from numpy and matplotlib\n"
     ]
    },
    {
     "data": {
      "image/png": "[encoded data removed]",
      "text/plain": [
       "<Figure size 1080x504 with 1 Axes>"
      ]
     },
     "metadata": {},
     "output_type": "display_data"
    }
   ],
   "source": [
    "%pylab --no-import-all inline\n",
    "import matplotlib.pyplot as plt\n",
    "plt.rcParams[\"figure.figsize\"] = (15, 7)\n",
    "from scipy.io import wavfile\n",
    "(fs, s) = wavfile.read('../data/digits.wav')\n",
    "p = plt.plot(s)"
   ]
  },
  {
   "cell_type": "markdown",
   "metadata": {
    "slideshow": {
     "slide_type": "slide"
    }
   },
   "source": [
    "## We're Learning Data Science Methods"
   ]
  },
  {
   "cell_type": "markdown",
   "metadata": {
    "slideshow": {
     "slide_type": "fragment"
    }
   },
   "source": [
    "[What is Data Science (NYU)](http://datascience.nyu.edu/what-is-data-science/)\n",
    "\n",
    "> At its core, data science involves using automated methods to analyze massive amounts of data and to extract knowledge from them. With such automated methods turning up everywhere from genomics to high-energy physics, data science is helping to create new branches of science, and influencing areas of social science and the humanities. \n",
    "\n"
   ]
  },
  {
   "cell_type": "markdown",
   "metadata": {
    "slideshow": {
     "slide_type": "subslide"
    }
   },
   "source": [
    "[What is Data Science (Berkeley)](https://datascience.berkeley.edu/about/what-is-data-science/)\n",
    "\n",
    "> There is significant and growing demand for data-savvy professionals in businesses, public agencies, and nonprofits. The supply of professionals who can work effectively with data at scale is limited, and is reflected by rapidly rising salaries for data engineers, data scientists, statisticians, and data analysts.\n"
   ]
  },
  {
   "cell_type": "markdown",
   "metadata": {
    "slideshow": {
     "slide_type": "slide"
    }
   },
   "source": [
    "# Overview: Speech Analysis\n",
    "\n",
    "* What is speech - an introduction to speech acoustics \n",
    "* Speech, language and perception\n",
    "* Digital speech signals - handling speech computationally\n",
    "* Classification methods - some algorithms that learn to classify things\n",
    "* Collecting speech data for experiments\n",
    "* Designing experiments\n",
    "* Building classifiers for speech data\n",
    "* How well do our classifiers perform?\n"
   ]
  },
  {
   "cell_type": "markdown",
   "metadata": {
    "slideshow": {
     "slide_type": "slide"
    }
   },
   "source": [
    "# Overview: Reproducibility\n",
    "\n",
    "* Good science (and Engineering) is reproducible: what does that mean?\n",
    "* Writing code that others could run (Jupyter Notebooks)\n",
    "* Keeping a record of what you've done (Version control, Git)\n",
    "* Making sure others can find your data (Data publishing)\n",
    "* How to help make sure that others can run your code"
   ]
  },
  {
   "cell_type": "markdown",
   "metadata": {
    "slideshow": {
     "slide_type": "slide"
    }
   },
   "source": [
    "# Why Worry about Reproducibility?\n",
    "\n",
    "[Estimating the Reproducibility of Psychological Science](https://osf.io/ezcuj/wiki/home/)\n",
    "\n",
    "* Reproduced 100 studies\n",
    "* 97% of original studies had significant results\n",
    "* Only 36% of repeated studies did\n",
    "* Replication effects were half the magnitude of original effects\n",
    "\n",
    "We need to be able to reproduce an experiment in order to demonstrate this.\n"
   ]
  },
  {
   "cell_type": "markdown",
   "metadata": {
    "slideshow": {
     "slide_type": "slide"
    }
   },
   "source": [
    "# Why Worry about Reproducibility?\n",
    "\n",
    "* In machine learning: many ML systems can't be re-generated because the steps to the complete trained system are too complex\n",
    "* In business/finance: what were the assumptions behind your analysis? What if you discover an error? \n",
    "* In science: increasingly depends on writing code to transform data and perform analysis, can we reproduce those steps\n",
    "* In engineering: if software simulations are part of a project, we need to be able to reproduce these accurately "
   ]
  },
  {
   "cell_type": "markdown",
   "metadata": {
    "slideshow": {
     "slide_type": "slide"
    }
   },
   "source": [
    "# Practical Work\n",
    "\n",
    "* We will learn to use a few different technologies \n",
    "* Python - programming language\n",
    "* Jupyter Notebooks - executable documents\n",
    "* Docker - containerised software"
   ]
  },
  {
   "cell_type": "markdown",
   "metadata": {
    "slideshow": {
     "slide_type": "slide"
    }
   },
   "source": [
    "# Python\n",
    "\n",
    "* Programming language popular for data analysis, web development\n",
    "* A _dynamically typed_ language\n",
    "* An Object Oriented language\n",
    "* Many useful built-in data types\n",
    "* Many useful libraries (modules) both built-in and downloadable"
   ]
  },
  {
   "cell_type": "markdown",
   "metadata": {
    "slideshow": {
     "slide_type": "slide"
    }
   },
   "source": [
    "# Jupyter Notebooks\n",
    "\n",
    "* A way to combine documentation and code\n",
    "* Executable documents work towards reproducibility\n",
    "* Jupyter can host many language kernels (Python, R, Scala)\n",
    "* Works through a web browser\n",
    "* Can be local or remote\n",
    "    * E.g. see [Binder](https://mybinder.org/) \n",
    "* Platform independant (Mac, Windows, Linux)"
   ]
  },
  {
   "cell_type": "markdown",
   "metadata": {
    "slideshow": {
     "slide_type": "slide"
    }
   },
   "source": [
    "# Docker\n",
    "\n",
    "* Docker provides a runtime environment for _containers_\n",
    "\n",
    "\n",
    "<table>\n",
    "    <tr>\n",
    "        <td><img src=\"https://www.docker.com/sites/default/files/VM%402x.png\" width=\"400\"></td>\n",
    "        <td><img src=\"https://www.docker.com/sites/default/files/Container%402x.png\" width=\"400\"></td>\n",
    "    </tr>\n",
    "</table>"
   ]
  },
  {
   "cell_type": "markdown",
   "metadata": {
    "slideshow": {
     "slide_type": "slide"
    }
   },
   "source": [
    "# Docker Images\n",
    "\n",
    "* A docker image is a packaged set of libraries and applications\n",
    "* Runs on top of the docker application\n",
    "* Can share network and disk resources with the host\n",
    "* One docker image can be extended with more software\n",
    "* Means we can run software with the same environment everywhere\n",
    "* Archived docker images snapshot versions of software\n"
   ]
  },
  {
   "cell_type": "markdown",
   "metadata": {
    "slideshow": {
     "slide_type": "subslide"
    }
   },
   "source": [
    "```\n",
    "FROM jupyter/scipy-notebook\n",
    "\n",
    "USER $NB_UID\n",
    "RUN conda install --quiet --yes -c conda-forge \\\n",
    "    librosa=0.6.1\n",
    "\n",
    "# install RISE for live slides https://damianavila.github.io/RISE/index.html\n",
    "RUN conda install --quiet --yes -c damianavila82 rise\n",
    "RUN jupyter-nbextension install rise --py --sys-prefix &\\\n",
    "    jupyter-nbextension enable rise --py --sys-prefix\n",
    "\n",
    "# install pyalveo to get data from the Alveo API\n",
    "RUN conda install --quiet --yes pyalveo\n",
    "# install pysptk for speech feature extraction\n",
    "RUN pip install pysptk\n",
    "```"
   ]
  },
  {
   "cell_type": "markdown",
   "metadata": {
    "slideshow": {
     "slide_type": "slide"
    }
   },
   "source": [
    "# Version Control\n",
    "\n",
    "* What is Version Control? \n",
    "* Why is it relevant to this course? \n",
    "* About the Git VC system\n",
    "* About GitHub (or GitLab, Bitbucket)\n",
    "* How we will use Git in this course\n",
    "\n",
    "We will work through the [Software Carpentry Git Notes](https://swcarpentry.github.io/git-novice/)"
   ]
  },
  {
   "cell_type": "markdown",
   "metadata": {
    "slideshow": {
     "slide_type": "slide"
    }
   },
   "source": [
    "# Running and Using Jupyter\n",
    "\n",
    "* How to run the Jupyter notebook server\n",
    "* Connecting to the server and running a notebook\n",
    "* Managing notebooks\n",
    "* Getting notebooks from GitHub\n",
    "* Making changes and working with version control"
   ]
  }
 ],
 "metadata": {
  "celltoolbar": "Slideshow",
  "kernelspec": {
   "display_name": "Python 3",
   "language": "python",
   "name": "python3"
  },
  "language_info": {
   "codemirror_mode": {
    "name": "ipython",
    "version": 3
   },
   "file_extension": ".py",
   "mimetype": "text/x-python",
   "name": "python",
   "nbconvert_exporter": "python",
   "pygments_lexer": "ipython3",
   "version": "3.6.5"
  }
 },
 "nbformat": 4,
 "nbformat_minor": 2
}
