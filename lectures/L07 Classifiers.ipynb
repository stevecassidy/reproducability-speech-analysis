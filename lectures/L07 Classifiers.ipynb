{
 "cells": [
  {
   "cell_type": "markdown",
   "metadata": {
    "slideshow": {
     "slide_type": "slide"
    }
   },
   "source": [
    "# Classifiers\n",
    "\n",
    "The classification problem:\n",
    "\n",
    "* Given two or more categories of observation \n",
    "* Extract numerical features for each observation\n",
    "* Train some kind of model of each category\n",
    "* Use the model to predict the category of new observations\n",
    "* This is the basis of **supervised machine learning**"
   ]
  },
  {
   "cell_type": "markdown",
   "metadata": {
    "slideshow": {
     "slide_type": "slide"
    }
   },
   "source": [
    "# Outline\n",
    "\n",
    "* Distance measures\n",
    "* K Nearest Neighbor Classifier\n",
    "* Running classification experiments\n",
    "* Training, testing, validation\n",
    "* Evaluating classification experiments\n"
   ]
  },
  {
   "cell_type": "markdown",
   "metadata": {
    "slideshow": {
     "slide_type": "slide"
    }
   },
   "source": [
    "# Distance Metrics\n",
    "\n",
    "* How do we tell if two samples are similar or different? \n",
    "* Use a __distance metric__ a numerical measure of similarity\n",
    "* Should be small if they are similar\n",
    "* Large if they are different\n",
    "* For numerical data, use __Euclidean Distance__\n",
    "* Alternative __Manhattan Distance__ is faster to compute"
   ]
  },
  {
   "cell_type": "markdown",
   "metadata": {
    "slideshow": {
     "slide_type": "slide"
    }
   },
   "source": [
    "# K Nearest Neighbours\n",
    "\n",
    "* Simple classification method\n",
    "* To train the model: remember all the training data\n",
    "* To label an unknown point: \n",
    "    * Measure the distance to the K nearest labelled points\n",
    "    * Take the most frequent label as the response\n",
    "* Can be very effective for some problems\n",
    "* Costly to compute for very large training data"
   ]
  },
  {
   "cell_type": "code",
   "execution_count": 3,
   "metadata": {
    "slideshow": {
     "slide_type": "skip"
    }
   },
   "outputs": [],
   "source": [
    "import numpy as np\n",
    "import matplotlib.pyplot as plt\n",
    "% matplotlib inline\n",
    "from matplotlib.colors import ListedColormap\n",
    "from sklearn import neighbors, datasets\n"
   ]
  },
  {
   "cell_type": "code",
   "execution_count": 4,
   "metadata": {
    "slideshow": {
     "slide_type": "slide"
    }
   },
   "outputs": [
    {
     "name": "stdout",
     "output_type": "stream",
     "text": [
      "Data: [[ 5.1  3.5]\n",
      " [ 4.9  3. ]\n",
      " [ 4.7  3.2]\n",
      " [ 4.6  3.1]\n",
      " [ 5.   3.6]\n",
      " [ 5.4  3.9]\n",
      " [ 4.6  3.4]\n",
      " [ 5.   3.4]\n",
      " [ 4.4  2.9]\n",
      " [ 4.9  3.1]]\n",
      "Labels: [0 0 0 0 0 0 0 0 0 0]\n"
     ]
    }
   ],
   "source": [
    "# import some data to play with\n",
    "iris = datasets.load_iris()\n",
    "\n",
    "# we only take the first two features. We could avoid this ugly\n",
    "# slicing by using a two-dim dataset\n",
    "X = iris.data[:, :2]\n",
    "y = iris.target\n",
    "\n",
    "print(\"Data:\", X[:10])\n",
    "print(\"Labels:\", y[:10])"
   ]
  },
  {
   "cell_type": "code",
   "execution_count": 34,
   "metadata": {
    "slideshow": {
     "slide_type": "slide"
    }
   },
   "outputs": [],
   "source": [
    "def show_decision_boundary(classifier):\n",
    "    \"\"\"A function to display the decision boundary for a \n",
    "    classifier based on the iris dataset\"\"\"\n",
    "    \n",
    "    iris = datasets.load_iris()\n",
    "    X = iris.data[:, :2]\n",
    "    y = iris.target\n",
    "\n",
    "    classifier.fit(X, y)\n",
    "    # Compute the decision boundary. For that, we will assign a color to each\n",
    "    # point in the mesh [x_min, x_max]x[y_min, y_max].\n",
    "    h = .02  # step size in the mesh\n",
    "    x_min, x_max = X[:, 0].min() - 1, X[:, 0].max() + 1\n",
    "    y_min, y_max = X[:, 1].min() - 1, X[:, 1].max() + 1\n",
    "    xx, yy = np.meshgrid(np.arange(x_min, x_max, h),\n",
    "                         np.arange(y_min, y_max, h))\n",
    "    Z = classifier.predict(np.c_[xx.ravel(), yy.ravel()])\n",
    "    Z = Z.reshape(xx.shape)\n",
    "\n",
    "    plt.pcolormesh(xx, yy, Z, cmap=plt.cm.RdPu)\n",
    "    # Plot also the training points\n",
    "    plt.scatter(X[:, 0], X[:, 1], c=y, cmap=plt.cm.bwr, edgecolor='k', s=20)\n",
    "    plt.xlim(xx.min(), xx.max()); plt.ylim(yy.min(), yy.max())\n",
    "    \n"
   ]
  },
  {
   "cell_type": "code",
   "execution_count": 35,
   "metadata": {
    "slideshow": {
     "slide_type": "slide"
    }
   },
   "outputs": [
    {
     "data": {
      "image/png": "[encoded data removed]",
      "text/plain": [
       "<Figure size 432x288 with 1 Axes>"
      ]
     },
     "metadata": {},
     "output_type": "display_data"
    }
   ],
   "source": [
    "clf = neighbors.KNeighborsClassifier(n_neighbors=5)\n",
    "show_decision_boundary(clf)"
   ]
  },
  {
   "cell_type": "markdown",
   "metadata": {
    "slideshow": {
     "slide_type": "slide"
    }
   },
   "source": [
    "# Running Classification Experiments\n",
    "\n",
    "* Training and testing data\n",
    "    * We can't train and test on the same data\n",
    "    * Usually split into at least two data sets\n",
    "    * One for training, one reserved for testing\n",
    "* Evaluation\n",
    "    * How do we know how well we did? \n",
    "    * Percent correct? \n",
    "    * Precision & Recall\n"
   ]
  },
  {
   "cell_type": "code",
   "execution_count": 20,
   "metadata": {
    "slideshow": {
     "slide_type": "slide"
    }
   },
   "outputs": [
    {
     "name": "stdout",
     "output_type": "stream",
     "text": [
      "(105, 4)\n",
      "(45, 4)\n"
     ]
    }
   ],
   "source": [
    "# Train test split using sklearn library\n",
    "from sklearn.model_selection import train_test_split\n",
    "from sklearn.datasets import load_iris\n",
    "\n",
    "# load the iris data set\n",
    "# data is the 4 dimensional data\n",
    "# target is the labels for each row\n",
    "data, target = load_iris(True)\n",
    "\n",
    "# use random selection to split data 80:20\n",
    "X_train, X_test, y_train, y_test = train_test_split(data, target, test_size=0.30, random_state=42)\n",
    "print(X_train.shape)\n",
    "print(X_test.shape)"
   ]
  },
  {
   "cell_type": "markdown",
   "metadata": {
    "slideshow": {
     "slide_type": "slide"
    }
   },
   "source": [
    "# Other Selection Methods\n",
    "\n",
    "We might also select test data by other criteria\n",
    "\n",
    "* Select one or more speakers as test subjects\n",
    "    * Has the advantage that this speaker is totally unknown to the system\n",
    "    * However, in our small dataset, speakers might be very different\n",
    "* Select one or more words as test data\n",
    "    * Eg. select words [1, 2, 3] in English and Chinese as test data\n",
    "    * Advantage is that these phonemes will be different to training data\n",
    "* Select one language as training data, the other as test data\n",
    "    * Test data is quite different to training data\n",
    "    * 50:50 split might not be enough data for training"
   ]
  },
  {
   "cell_type": "markdown",
   "metadata": {
    "slideshow": {
     "slide_type": "slide"
    }
   },
   "source": [
    "# Precision and Recall\n",
    "\n",
    "* For a given category\n",
    "    * Precision: how many correct over how many predicted in that category\n",
    "    * Recall: how many correct over the total true labels for that category\n",
    "* Eg. \n",
    "    * If I have 100 male and 100 female speakers\n",
    "    * My prediction has 80 male and 120 female\n",
    "    * Of my 80 male predictions, 70 are actually male\n",
    "    * Of the 120 female predictions, 90 are female\n",
    "    "
   ]
  },
  {
   "cell_type": "code",
   "execution_count": 21,
   "metadata": {
    "slideshow": {
     "slide_type": "slide"
    }
   },
   "outputs": [
    {
     "name": "stdout",
     "output_type": "stream",
     "text": [
      "             precision    recall  f1-score   support\n",
      "\n",
      "          0       1.00      1.00      1.00        19\n",
      "          1       1.00      1.00      1.00        13\n",
      "          2       1.00      1.00      1.00        13\n",
      "\n",
      "avg / total       1.00      1.00      1.00        45\n",
      "\n"
     ]
    }
   ],
   "source": [
    "from sklearn.neighbors import KNeighborsClassifier\n",
    "from sklearn.metrics import classification_report\n",
    "\n",
    "# creat a KNN classifier \n",
    "nn = KNeighborsClassifier(n_neighbors=3)\n",
    "# fit the training data\n",
    "nn.fit(X_train, y_train)\n",
    "\n",
    "# now get the predicted labels for the test data\n",
    "predicted = nn.predict(X_test)\n",
    "\n",
    "# and print the classification report for precision and recall\n",
    "print(classification_report(y_test, predicted))\n"
   ]
  },
  {
   "cell_type": "code",
   "execution_count": 22,
   "metadata": {
    "slideshow": {
     "slide_type": "slide"
    }
   },
   "outputs": [
    {
     "name": "stdout",
     "output_type": "stream",
     "text": [
      "[[19  0  0]\n",
      " [ 0 13  0]\n",
      " [ 0  0 13]]\n"
     ]
    }
   ],
   "source": [
    "# can also look at a confusion matrix\n",
    "from sklearn.metrics import confusion_matrix\n",
    "print(confusion_matrix(y_test, predicted))"
   ]
  },
  {
   "cell_type": "markdown",
   "metadata": {
    "slideshow": {
     "slide_type": "slide"
    }
   },
   "source": [
    "# Naive Bayes Classifiers\n",
    "\n",
    "* Another classification algorithm\n",
    "* Decisions based on the _probability_ of class membership\n",
    "* Naive assumption is that each feature is independent\n",
    "* Model probability via a Gaussian model\n",
    "* Details of the formula on [sklearn website](http://scikit-learn.org/stable/modules/naive_bayes.html)"
   ]
  },
  {
   "cell_type": "markdown",
   "metadata": {
    "slideshow": {
     "slide_type": "slide"
    }
   },
   "source": [
    "Formula for Naive Bayes on the assumption that all $P(x_i|y)$ are independant:\n",
    "\n",
    "$y' = argmax\\{P(y) \\prod_{i=1}^{n}P(x_i|y)\\}$"
   ]
  },
  {
   "cell_type": "code",
   "execution_count": 23,
   "metadata": {
    "slideshow": {
     "slide_type": "slide"
    }
   },
   "outputs": [
    {
     "name": "stdout",
     "output_type": "stream",
     "text": [
      "             precision    recall  f1-score   support\n",
      "\n",
      "          0       1.00      1.00      1.00        19\n",
      "          1       1.00      0.92      0.96        13\n",
      "          2       0.93      1.00      0.96        13\n",
      "\n",
      "avg / total       0.98      0.98      0.98        45\n",
      "\n"
     ]
    }
   ],
   "source": [
    "from sklearn.naive_bayes import GaussianNB\n",
    "gnb = GaussianNB()\n",
    "gnb.fit(X_train, y_train)\n",
    "predicted = gnb.predict(X_test)\n",
    "print(classification_report(y_test, predicted))"
   ]
  },
  {
   "cell_type": "code",
   "execution_count": 24,
   "metadata": {},
   "outputs": [
    {
     "data": {
      "image/png": "[encoded data removed]",
      "text/plain": [
       "<Figure size 432x288 with 1 Axes>"
      ]
     },
     "metadata": {},
     "output_type": "display_data"
    }
   ],
   "source": [
    "gnb = GaussianNB()\n",
    "show_decision_boundary(gnb)"
   ]
  },
  {
   "cell_type": "markdown",
   "metadata": {
    "slideshow": {
     "slide_type": "slide"
    }
   },
   "source": [
    "# File average vs Frame-by-Frame classification\n",
    "\n",
    "* We've seen some examples of classifying each file with one feature vector per file\n",
    "* This is necessarily an average over the file or a snapshot from some point in time\n",
    "* Alternative is to use __every__ frame in the data \n",
    "* Generate labels for every frame \n",
    "* Classify every frame in the unknown file\n",
    "    * Count the most frequent predicted label as the prediction"
   ]
  },
  {
   "cell_type": "code",
   "execution_count": 25,
   "metadata": {
    "slideshow": {
     "slide_type": "slide"
    }
   },
   "outputs": [],
   "source": [
    "def features(datafile, label):\n",
    "    \"\"\"Generate mfcc feature vectors for a single data file\n",
    "    return a 2 dimensional numpy array with one row per frame\n",
    "    and an array of labels for each frame\"\"\"\n",
    "    y, sr = librosa.load(datafile)\n",
    "    mfcc = librosa.feature.mfcc(y=y, sr=sr)\n",
    "    labels = np.full((mfcc.shape[1],), label)\n",
    "    return np.array(mfcc), labels\n",
    "\n",
    "def extract_frame_features(datafiles, target):\n",
    "    \"\"\"Given a list of sound files and their target labels\n",
    "    Compute a sequence of features for each file\n",
    "    Concatenate these features into a single np.array\n",
    "    Return these features and a corresponding array\n",
    "    of target labels, one for every frame\"\"\"\n",
    "    \n",
    "    data = None\n",
    "    frame_target = []\n",
    "    for i in range(len(target)):\n",
    "        frames, labels = features(datafiles[i], target[i])\n",
    "        frame_target.extend(labels)\n",
    "        if data is None:\n",
    "            # transpose the frames \n",
    "            data = frames.T\n",
    "        else:\n",
    "            # concatenate the tranposed frames\n",
    "            data = np.concatenate((data, frames.T))\n",
    "\n",
    "    frame_target = np.array(frame_target)\n",
    "    \n",
    "    return data, frame_target\n",
    "\n",
    "#data, target = extract_frame_features(datafiles, target)\n",
    "    "
   ]
  },
  {
   "cell_type": "markdown",
   "metadata": {
    "slideshow": {
     "slide_type": "slide"
    }
   },
   "source": [
    "# Support Vector Machines\n",
    "\n",
    "* Another type of classifier based on __linear separation__\n",
    "* Find a line between the points of two classes\n",
    "* If there is no line, transform to a higher number of dimensions\n",
    "    * Use a __kernel__ function to do this\n",
    "* Line is __supported__ by points close to it\n",
    "* Hyper-parameters include: kernel, penalty"
   ]
  },
  {
   "cell_type": "markdown",
   "metadata": {
    "slideshow": {
     "slide_type": "slide"
    }
   },
   "source": [
    "<img src=\"https://upload.wikimedia.org/wikipedia/commons/2/2a/Svm_max_sep_hyperplane_with_margin.png\" width=\"60%\">\n",
    "\n",
    "Source [Wikimedia Commons](https://commons.wikimedia.org/wiki/File:Svm_max_sep_hyperplane_with_margin.png)"
   ]
  },
  {
   "cell_type": "code",
   "execution_count": 26,
   "metadata": {
    "slideshow": {
     "slide_type": "slide"
    }
   },
   "outputs": [
    {
     "name": "stdout",
     "output_type": "stream",
     "text": [
      "             precision    recall  f1-score   support\n",
      "\n",
      "          0       1.00      1.00      1.00        19\n",
      "          1       1.00      1.00      1.00        13\n",
      "          2       1.00      1.00      1.00        13\n",
      "\n",
      "avg / total       1.00      1.00      1.00        45\n",
      "\n"
     ]
    }
   ],
   "source": [
    "from sklearn.svm import SVC\n",
    "\n",
    "svm = SVC()\n",
    "svm.fit(X_train, y_train)\n",
    "predicted = svm.predict(X_test)\n",
    "print(classification_report(y_test, predicted))"
   ]
  },
  {
   "cell_type": "code",
   "execution_count": 27,
   "metadata": {
    "slideshow": {
     "slide_type": "slide"
    }
   },
   "outputs": [
    {
     "data": {
      "image/png": "[encoded data removed]",
      "text/plain": [
       "<Figure size 432x288 with 1 Axes>"
      ]
     },
     "metadata": {},
     "output_type": "display_data"
    }
   ],
   "source": [
    "svm = SVC()  # default RBF kernel\n",
    "show_decision_boundary(svm)"
   ]
  },
  {
   "cell_type": "code",
   "execution_count": 28,
   "metadata": {
    "slideshow": {
     "slide_type": "slide"
    }
   },
   "outputs": [
    {
     "data": {
      "image/png": "[encoded data removed]",
      "text/plain": [
       "<Figure size 432x288 with 1 Axes>"
      ]
     },
     "metadata": {},
     "output_type": "display_data"
    }
   ],
   "source": [
    "svm = SVC(kernel='linear')\n",
    "show_decision_boundary(svm)"
   ]
  },
  {
   "cell_type": "code",
   "execution_count": 29,
   "metadata": {
    "slideshow": {
     "slide_type": "slide"
    }
   },
   "outputs": [
    {
     "data": {
      "image/png": "[encoded data removed]",
      "text/plain": [
       "<Figure size 432x288 with 1 Axes>"
      ]
     },
     "metadata": {},
     "output_type": "display_data"
    }
   ],
   "source": [
    "svm = SVC(kernel='poly')\n",
    "show_decision_boundary(svm)"
   ]
  },
  {
   "cell_type": "code",
   "execution_count": null,
   "metadata": {},
   "outputs": [],
   "source": []
  }
 ],
 "metadata": {
  "celltoolbar": "Slideshow",
  "kernelspec": {
   "display_name": "Python 3",
   "language": "python",
   "name": "python3"
  },
  "language_info": {
   "codemirror_mode": {
    "name": "ipython",
    "version": 3
   },
   "file_extension": ".py",
   "mimetype": "text/x-python",
   "name": "python",
   "nbconvert_exporter": "python",
   "pygments_lexer": "ipython3",
   "version": "3.6.5"
  }
 },
 "nbformat": 4,
 "nbformat_minor": 2
}
